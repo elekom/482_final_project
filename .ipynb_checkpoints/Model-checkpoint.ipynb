{
 "cells": [
  {
   "cell_type": "code",
   "execution_count": 222,
   "metadata": {},
   "outputs": [
    {
     "name": "stdout",
     "output_type": "stream",
     "text": [
      "Model for Full Dataset\n",
      "Root mean squared error = 0.7024\n",
      "R-square = 0.5875\n",
      "Slope Coefficients: [-2.58172782 -0.03727193  0.07416397]\n",
      "Intercept: 5.448614162770346\n"
     ]
    },
    {
     "data": {
      "text/plain": [
       "Text(0, 0.5, 'Predicted values for y')"
      ]
     },
     "execution_count": 222,
     "metadata": {},
     "output_type": "execute_result"
    },
    {
     "data": {
      "image/png": "[encoded data removed]",
      "text/plain": [
       "<Figure size 432x288 with 1 Axes>"
      ]
     },
     "metadata": {
      "needs_background": "light"
     },
     "output_type": "display_data"
    }
   ],
   "source": [
    "import pandas as pd\n",
    "from sklearn.decomposition import PCA\n",
    "from sklearn.model_selection import train_test_split\n",
    "from sklearn import linear_model\n",
    "from sklearn.metrics import mean_squared_error, r2_score\n",
    "from sklearn.preprocessing import MinMaxScaler\n",
    "import matplotlib.pyplot as plt\n",
    "import numpy as np\n",
    "import copy\n",
    "\n",
    "\n",
    "data = pd.read_csv(\"dataComplete.csv\")\n",
    "data.set_index(['Country','Year'], inplace=True, drop=True)\n",
    "data.dropna(inplace=True)\n",
    "\n",
    "y = data[\"Life Ladder\"]\n",
    "data.drop(\"Life Ladder\",axis=1,inplace=True)\n",
    "\n",
    "# scale data to range from 0 to 1\n",
    "scaler = MinMaxScaler()\n",
    "data_rescaled = scaler.fit_transform(data)\n",
    "\n",
    "pca = PCA(n_components = 0.5)\n",
    "pca.fit(data_rescaled)\n",
    "reduced = pca.transform(data_rescaled)\n",
    "\n",
    "projected = pd.DataFrame(reduced,index=range(1,len(data.index)+1))\n",
    "\n",
    "X = projected\n",
    "X_train, X_test, y_train, y_test = train_test_split(X, y, test_size=0.3, random_state=1)\n",
    "\n",
    "# Create linear regression object\n",
    "regr = linear_model.LinearRegression()\n",
    "\n",
    "\n",
    "# Fit regression model to the training set\n",
    "regr.fit(X_train, y_train)\n",
    "\n",
    "# Apply model to the test set\n",
    "y_pred = regr.predict(X_test)\n",
    "\n",
    "\n",
    "# Evaluate the results\n",
    "print(\"Model for Full Dataset\")\n",
    "print(\"Root mean squared error = %.4f\" %np.sqrt(mean_squared_error(y_test, y_pred)) )\n",
    "print(\"R-square = %.4f\" % r2_score(y_test, y_pred) )\n",
    "print('Slope Coefficients:', regr.coef_ )\n",
    "print('Intercept:', regr.intercept_ )\n",
    "\n",
    "plt.scatter(y_test, y_pred, color='black')\n",
    "plt.title('Comparison between true and predicted values')\n",
    "plt.xlabel('True values for y')\n",
    "plt.ylabel('Predicted values for y')"
   ]
  },
  {
   "cell_type": "code",
   "execution_count": 230,
   "metadata": {},
   "outputs": [
    {
     "name": "stdout",
     "output_type": "stream",
     "text": [
      "Groups for Life Ladder Coefficients\n"
     ]
    },
    {
     "data": {
      "text/plain": [
       "[                      Country  Coefficient  Intercept  Cluster\n",
       " 5                     Armenia    -0.020918   4.522647        0\n",
       " 7                     Austria    -0.012007   7.300446        0\n",
       " 9                     Bahrain     0.105172   5.335001        0\n",
       " 23                   Cambodia     0.031597   3.900082        0\n",
       " 31                    Comoros     0.146513   3.404303        0\n",
       " 33           Congo (Kinshasa)     0.000268   4.347235        0\n",
       " 57                      Haiti    -0.039218   4.203817        0\n",
       " 61                    Iceland     0.076984   7.141331        0\n",
       " 71                      Japan    -0.033651   6.254100        0\n",
       " 77                 Kyrgyzstan     0.055596   4.664969        0\n",
       " 89                   Malaysia     0.014992   5.795372        0\n",
       " 103               Netherlands    -0.010068   7.527249        0\n",
       " 107                   Nigeria     0.048673   4.738743        0\n",
       " 109                    Norway     0.012230   7.515256        0\n",
       " 113                    Panama    -0.028656   6.953320        0\n",
       " 141               Switzerland    -0.011966   7.586584        0\n",
       " 143  Taiwan Province of China     0.059247   5.916775        0\n",
       " 145                  Tanzania    -0.076759   4.214631        0\n",
       " 147                      Togo     0.230309   2.477785        0\n",
       " 163                  Zimbabwe     0.022760   3.916274        0,\n",
       "                   Country  Coefficient  Intercept  Cluster\n",
       " 0             Afghanistan    -0.103146   4.373916        1\n",
       " 2                 Algeria    -0.007200   5.580203        1\n",
       " 4               Argentina     0.023359   6.254295        1\n",
       " 6               Australia    -0.006891   7.350436        1\n",
       " 8              Azerbaijan     0.073441   4.425335        1\n",
       " ..                    ...          ...        ...      ...\n",
       " 154  United Arab Emirates    -0.015016   6.945967        1\n",
       " 156         United States    -0.039349   7.380566        1\n",
       " 158            Uzbekistan     0.113766   5.038622        1\n",
       " 160               Vietnam    -0.033267   5.509506        1\n",
       " 162                Zambia    -0.039153   4.920299        1\n",
       " \n",
       " [82 rows x 4 columns],\n",
       "                        Country  Coefficient  Intercept  Cluster\n",
       " 1                      Albania    -0.086090   5.462285        2\n",
       " 11                     Belarus    -0.001741   5.589732        2\n",
       " 17      Bosnia and Herzegovina     0.039935   4.786377        2\n",
       " 29                       China     0.065787   4.545171        2\n",
       " 41          Dominican Republic     0.030139   4.940483        2\n",
       " 43                       Egypt    -0.090096   5.181093        2\n",
       " 45                     Estonia     0.048684   5.188252        2\n",
       " 47                     Finland     0.008215   7.478416        2\n",
       " 49                       Gabon     0.148610   3.722842        2\n",
       " 53                      Greece    -0.124857   6.253659        2\n",
       " 55                      Guinea     0.071177   3.571244        2\n",
       " 59   Hong Kong S.A.R. of China     0.007526   5.402933        2\n",
       " 63                   Indonesia     0.013633   5.119773        2\n",
       " 65                        Iraq    -0.042624   4.879466        2\n",
       " 67                      Israel     0.010918   7.164224        2\n",
       " 99                  Mozambique    -0.060176   4.857589        2\n",
       " 101                    Namibia    -0.222141   5.077909        2\n",
       " 111                   Pakistan     0.026170   5.119846        2\n",
       " 115                       Peru     0.068509   5.108017        2\n",
       " 139                  Swaziland     0.000000   4.867091        2\n",
       " 149                    Tunisia    -0.077023   5.194295        2\n",
       " 159                  Venezuela    -0.195608   7.588643        2,\n",
       "           Country  Coefficient  Intercept  Cluster\n",
       " 13         Belize    -0.494998   6.945642        3\n",
       " 15         Bhutan    -0.243482   5.683563        3\n",
       " 25         Canada    -0.015538   7.540544        3\n",
       " 27           Chad     0.025268   3.827105        3\n",
       " 39        Denmark    -0.042147   7.969632        3\n",
       " 51        Germany     0.053283   6.418864        3\n",
       " 69    Ivory Coast     0.213914   3.506675        3\n",
       " 75         Kosovo     0.042267   5.228662        3\n",
       " 79         Latvia     0.144223   4.396512        3\n",
       " 95        Moldova     0.055254   5.216326        3\n",
       " 97     Montenegro     0.034371   5.040467        3\n",
       " 123  Saudi Arabia    -0.063358   6.961475        3\n",
       " 133   South Korea     0.034531   5.657841        3\n",
       " 135         Spain    -0.075812   7.007249        3\n",
       " 137         Sudan    -0.051715   4.533886        3\n",
       " 153       Ukraine    -0.106023   5.428953        3,\n",
       "                Country  Coefficient  Intercept  Cluster\n",
       " 3               Angola    -0.580563   5.871707        4\n",
       " 19              Brazil    -0.012010   6.791461        4\n",
       " 21        Burkina Faso     0.037551   3.821942        4\n",
       " 35             Croatia    -0.039525   5.766834        4\n",
       " 37              Cyprus    -0.106189   6.653038        4\n",
       " 73          Kazakhstan     0.025089   5.557285        4\n",
       " 81             Lesotho    -1.089310   5.986825        4\n",
       " 83               Libya    -0.050445   5.738670        4\n",
       " 85          Luxembourg    -0.014142   7.056587        4\n",
       " 87          Madagascar    -0.066471   4.263170        4\n",
       " 91               Malta     0.087493   5.888205        4\n",
       " 93           Mauritius     0.205336   5.213904        4\n",
       " 105          Nicaragua     0.148494   4.604958        4\n",
       " 117             Poland     0.042777   5.608913        4\n",
       " 119              Qatar    -0.032494   6.666465        4\n",
       " 121             Russia     0.070539   5.071601        4\n",
       " 125             Serbia     0.109538   4.394416        4\n",
       " 127          Singapore    -0.016841   6.628552        4\n",
       " 129           Slovenia     0.006524   5.896158        4\n",
       " 131  Somaliland region     0.047095   4.791424        4\n",
       " 151       Turkmenistan    -0.089464   6.141349        4\n",
       " 155     United Kingdom    -0.009942   6.946049        4\n",
       " 157            Uruguay     0.068070   5.778143        4\n",
       " 161              Yemen    -0.144931   4.766225        4]"
      ]
     },
     "execution_count": 230,
     "metadata": {},
     "output_type": "execute_result"
    }
   ],
   "source": [
    "from sklearn import datasets, linear_model, cluster\n",
    "\n",
    "data = pd.read_csv(\"dataComplete.csv\")\n",
    "data = data[['Country', 'Year', 'Life Ladder']]\n",
    "data_by_country = data.groupby('Country')\n",
    "\n",
    "regr = linear_model.LinearRegression()\n",
    "\n",
    "country_coef = pd.DataFrame(columns=['Country','Coefficient','Intercept'])\n",
    "result = pd.DataFrame(columns=['Centroids','R2','RMSE','# of Slope Coef.'])\n",
    "\n",
    "for x in data_by_country.groups:\n",
    "    temp = data_by_country.get_group(x)\n",
    "    regr.fit(pd.Series(range(1,temp.shape[0]+1)).values.reshape(-1,1), temp['Life Ladder'].values.reshape(-1,1))\n",
    "    country_coef = country_coef.append({'Country':x,'Coefficient':regr.coef_[0][0], 'Intercept':regr.intercept_[0]},ignore_index=True)\n",
    "\n",
    "k_means = cluster.KMeans(n_clusters=5, random_state=1, algorithm=\"full\")\n",
    "k_means.fit(country_coef[['Coefficient','Intercept']].values.reshape(-1,1)) \n",
    "clusters = pd.Series(k_means.labels_)\n",
    "country_coef['Cluster'] = clusters\n",
    "\n",
    "centroids = pd.DataFrame(k_means.cluster_centers_)[0]\n",
    "\n",
    "country_by_cluster = country_coef.groupby('Cluster')\n",
    "groups = [country_by_cluster.get_group(x) for x in country_by_cluster.groups]\n",
    "\n",
    "print(\"Groups for Life Ladder Coefficients\")\n",
    "groups"
   ]
  },
  {
   "cell_type": "code",
   "execution_count": 232,
   "metadata": {
    "scrolled": false
   },
   "outputs": [
    {
     "name": "stdout",
     "output_type": "stream",
     "text": [
      "Models for Life Ladder Coefficients\n",
      "\n",
      "Root mean squared error = 0.7086\n",
      "R-square = 0.7818\n",
      "Slope Coefficients: [ 2.34139997 -0.22452977 -0.07451958  0.11669047  0.24372081  0.98899031]\n",
      "Intercept: 5.48124753941281\n"
     ]
    },
    {
     "data": {
      "image/png": "[encoded data removed]",
      "text/plain": [
       "<Figure size 432x288 with 1 Axes>"
      ]
     },
     "metadata": {
      "needs_background": "light"
     },
     "output_type": "display_data"
    },
    {
     "name": "stdout",
     "output_type": "stream",
     "text": [
      "Root mean squared error = 0.6993\n",
      "R-square = 0.5648\n",
      "Slope Coefficients: [ 2.64478327 -0.46508258  0.10524404  0.18678805 -1.05730206 -1.10149965\n",
      " -0.90157656 -0.0901609 ]\n",
      "Intercept: 5.305901775800072\n"
     ]
    },
    {
     "data": {
      "image/png": "[encoded data removed]",
      "text/plain": [
       "<Figure size 432x288 with 1 Axes>"
      ]
     },
     "metadata": {
      "needs_background": "light"
     },
     "output_type": "display_data"
    },
    {
     "name": "stdout",
     "output_type": "stream",
     "text": [
      "Root mean squared error = 0.6451\n",
      "R-square = 0.5591\n",
      "Slope Coefficients: [ 1.26581419  0.67840417  0.77197507 -0.47576163  0.98070441 -1.05690635]\n",
      "Intercept: 5.354824234680468\n"
     ]
    },
    {
     "data": {
      "image/png": "[encoded data removed]",
      "text/plain": [
       "<Figure size 432x288 with 1 Axes>"
      ]
     },
     "metadata": {
      "needs_background": "light"
     },
     "output_type": "display_data"
    },
    {
     "name": "stdout",
     "output_type": "stream",
     "text": [
      "Root mean squared error = 0.4680\n",
      "R-square = 0.8561\n",
      "Slope Coefficients: [ 1.77920679 -0.58645474  0.08382511 -0.6501472   1.01002218 -0.2639418 ]\n",
      "Intercept: 5.856017977520421\n"
     ]
    },
    {
     "data": {
      "image/png": "[encoded data removed]",
      "text/plain": [
       "<Figure size 432x288 with 1 Axes>"
      ]
     },
     "metadata": {
      "needs_background": "light"
     },
     "output_type": "display_data"
    },
    {
     "name": "stdout",
     "output_type": "stream",
     "text": [
      "Root mean squared error = 0.5642\n",
      "R-square = 0.6008\n",
      "Slope Coefficients: [ 1.5219061  -0.71112932 -0.07356993  0.91302282  0.87698525  1.12662648\n",
      " -0.05270399]\n",
      "Intercept: 5.670151364615814\n"
     ]
    },
    {
     "data": {
      "image/png": "[encoded data removed]",
      "text/plain": [
       "<Figure size 432x288 with 1 Axes>"
      ]
     },
     "metadata": {
      "needs_background": "light"
     },
     "output_type": "display_data"
    },
    {
     "data": {
      "text/html": [
       "<div>\n",
       "<style scoped>\n",
       "    .dataframe tbody tr th:only-of-type {\n",
       "        vertical-align: middle;\n",
       "    }\n",
       "\n",
       "    .dataframe tbody tr th {\n",
       "        vertical-align: top;\n",
       "    }\n",
       "\n",
       "    .dataframe thead th {\n",
       "        text-align: right;\n",
       "    }\n",
       "</style>\n",
       "<table border=\"1\" class=\"dataframe\">\n",
       "  <thead>\n",
       "    <tr style=\"text-align: right;\">\n",
       "      <th></th>\n",
       "      <th>Centroids</th>\n",
       "      <th>R2</th>\n",
       "      <th>RMSE</th>\n",
       "      <th># of Slope Coef.</th>\n",
       "    </tr>\n",
       "  </thead>\n",
       "  <tbody>\n",
       "    <tr>\n",
       "      <td>0</td>\n",
       "      <td>5.894517</td>\n",
       "      <td>0.781843</td>\n",
       "      <td>0.708642</td>\n",
       "      <td>6.0</td>\n",
       "    </tr>\n",
       "    <tr>\n",
       "      <td>1</td>\n",
       "      <td>-0.016935</td>\n",
       "      <td>0.564803</td>\n",
       "      <td>0.699341</td>\n",
       "      <td>8.0</td>\n",
       "    </tr>\n",
       "    <tr>\n",
       "      <td>2</td>\n",
       "      <td>4.089262</td>\n",
       "      <td>0.559068</td>\n",
       "      <td>0.645121</td>\n",
       "      <td>6.0</td>\n",
       "    </tr>\n",
       "    <tr>\n",
       "      <td>3</td>\n",
       "      <td>7.137224</td>\n",
       "      <td>0.856081</td>\n",
       "      <td>0.467960</td>\n",
       "      <td>6.0</td>\n",
       "    </tr>\n",
       "    <tr>\n",
       "      <td>4</td>\n",
       "      <td>5.072297</td>\n",
       "      <td>0.600763</td>\n",
       "      <td>0.564225</td>\n",
       "      <td>7.0</td>\n",
       "    </tr>\n",
       "  </tbody>\n",
       "</table>\n",
       "</div>"
      ],
      "text/plain": [
       "   Centroids        R2      RMSE  # of Slope Coef.\n",
       "0   5.894517  0.781843  0.708642               6.0\n",
       "1  -0.016935  0.564803  0.699341               8.0\n",
       "2   4.089262  0.559068  0.645121               6.0\n",
       "3   7.137224  0.856081  0.467960               6.0\n",
       "4   5.072297  0.600763  0.564225               7.0"
      ]
     },
     "execution_count": 232,
     "metadata": {},
     "output_type": "execute_result"
    }
   ],
   "source": [
    "print(\"Models for Life Ladder Coefficients\")\n",
    "print()\n",
    "\n",
    "r2 = pd.Series(np.NaN, index=[0,1,2,3,4])\n",
    "rmse = pd.Series(np.NaN, index=[0,1,2,3,4])\n",
    "slopes = pd.Series(np.NaN, index=[0,1,2,3,4])\n",
    "\n",
    "for group in range(5):\n",
    "    data3 = pd.read_csv(\"dataComplete.csv\")\n",
    "    x = groups[group][\"Country\"].unique()\n",
    "    data3 = data3.loc[data3['Country'].isin(x)]\n",
    "    \n",
    "    if (data3.shape[0]>=100):\n",
    "    \n",
    "        data3.set_index(['Country','Year'], inplace=True, drop=True)\n",
    "        data3.dropna(inplace=True)\n",
    "\n",
    "        y = data3[\"Life Ladder\"]\n",
    "        data3.drop(\"Life Ladder\",axis=1,inplace=True)\n",
    "\n",
    "        #numComponents = 5\n",
    "        #pca = PCA(n_components=numComponents).fit(data3)\n",
    "\n",
    "        scaler = MinMaxScaler()\n",
    "        data_rescaled = scaler.fit_transform(data3)\n",
    "\n",
    "        pca = PCA(n_components = 0.85)\n",
    "        pca.fit(data_rescaled)\n",
    "        reduced = pca.transform(data_rescaled)\n",
    "        \n",
    "        projected = pd.DataFrame(reduced,index=range(1,len(data3.index)+1))\n",
    "\n",
    "        X = projected\n",
    "        X_train, X_test, y_train, y_test = train_test_split(X, y, test_size=0.3, random_state=1)\n",
    "\n",
    "        # # Create linear regression object\n",
    "        regr = linear_model.LinearRegression()\n",
    "\n",
    "\n",
    "        # # Fit regression model to the training set\n",
    "        regr.fit(X_train, y_train)\n",
    "\n",
    "        # # Apply model to the test set\n",
    "        y_pred = regr.predict(X_test)\n",
    "\n",
    "        # Evaluate the results\n",
    "        print(\"Root mean squared error = %.4f\" %np.sqrt(mean_squared_error(y_test, y_pred)) )\n",
    "        print(\"R-square = %.4f\" % r2_score(y_test, y_pred) )\n",
    "        print('Slope Coefficients:', regr.coef_ )\n",
    "        print('Intercept:', regr.intercept_ )\n",
    "        \n",
    "        # Add results to result df\n",
    "        r2.loc[group] = r2_score(y_test, y_pred)\n",
    "        rmse.loc[group] = np.sqrt(mean_squared_error(y_test, y_pred))\n",
    "        slopes.loc[group] = regr.coef_.shape[0]\n",
    "        \n",
    "        plt.scatter(y_test, y_pred, color='black')\n",
    "        plt.title('Comparison between true and predicted values')\n",
    "        plt.xlabel('True values for y')\n",
    "        plt.ylabel('Predicted values for y')\n",
    "        plt.show()\n",
    "        \n",
    "result['Centroids'] = centroids\n",
    "result['R2'] = r2\n",
    "result['RMSE'] = rmse\n",
    "result['# of Slope Coef.'] = slopes\n",
    "result"
   ]
  },
  {
   "cell_type": "code",
   "execution_count": null,
   "metadata": {},
   "outputs": [],
   "source": [
    "import pandas as pd\n",
    "import numpy as np\n",
    "from sklearn import datasets, linear_model, cluster\n",
    "\n",
    "data = pd.read_csv(\"dataComplete.csv\")\n",
    "data = data[['Country', 'Year', 'Positive Affect', 'Negative Affect']]\n",
    "data_by_country = data.groupby('Country')\n",
    "\n",
    "regr = linear_model.LinearRegression()\n",
    "\n",
    "country_coef = pd.DataFrame(columns=['Country','Difference'])\n",
    "result = pd.DataFrame(columns=['Centroids','R2','RMSE','# of Slope Coef.'])\n",
    "\n",
    "for x in data_by_country.groups:\n",
    "    temp = data_by_country.get_group(x)\n",
    "    country_coef = country_coef.append({'Country':x,'Difference':temp['Positive Affect'].mean()},ignore_index=True)\n",
    "\n",
    "k_means = cluster.KMeans(n_clusters=7, random_state=1, algorithm=\"full\") # 7 clusters 0.8379\n",
    "country_coef = country_coef.dropna()\n",
    "k_means.fit(country_coef['Difference'].values.reshape(-1,1)) \n",
    "clusters = pd.Series(k_means.labels_)\n",
    "country_coef['Cluster'] = clusters\n",
    "\n",
    "country_by_cluster = country_coef.groupby('Cluster')\n",
    "centroids = pd.DataFrame(k_means.cluster_centers_)[0]\n",
    "\n",
    "groups = [country_by_cluster.get_group(x) for x in country_by_cluster.groups]\n",
    "\n",
    "print(\"Groups for Difference of Positive Affect Mean and Negative Affect Mean: 7 Clusters\")\n",
    "print()\n",
    "groups"
   ]
  },
  {
   "cell_type": "code",
   "execution_count": null,
   "metadata": {},
   "outputs": [],
   "source": [
    "print(\"Models for Difference of Positive Affect Mean and Negative Affect Mean: 7 Clusters\")\n",
    "print()\n",
    "\n",
    "r2 = pd.Series(np.NaN, index=[0,1,2,3,4])\n",
    "rmse = pd.Series(np.NaN, index=[0,1,2,3,4])\n",
    "slopes = pd.Series(np.NaN, index=[0,1,2,3,4])\n",
    "for group in range(7):\n",
    "    print(\"Group: \"+str(group))\n",
    "        \n",
    "    data3 = pd.read_csv(\"dataComplete.csv\")\n",
    "    x = groups[group][\"Country\"].unique()\n",
    "    data3 = data3.loc[data3['Country'].isin(x)]\n",
    "\n",
    "    if (data3.shape[0]>=100):\n",
    "        data3.set_index(['Country','Year'], inplace=True, drop=True)\n",
    "        data3.dropna(inplace=True)\n",
    "\n",
    "        y = data3[\"Life Ladder\"]\n",
    "        data3.drop(\"Life Ladder\",axis=1,inplace=True)\n",
    "\n",
    "        #numComponents = 2\n",
    "        #pca = PCA(n_components=numComponents).fit(data3)\n",
    "\n",
    "        #projected = pd.DataFrame(pca.transform(data3),columns=['pc1','pc2'],index=range(1,len(data3.index)+1))\n",
    "        \n",
    "        scaler = MinMaxScaler()\n",
    "        data_rescaled = scaler.fit_transform(data3)\n",
    "\n",
    "        pca = PCA(n_components = 0.85)\n",
    "        pca.fit(data_rescaled)\n",
    "        reduced = pca.transform(data_rescaled)\n",
    "\n",
    "        projected = pd.DataFrame(reduced,index=range(1,len(data3.index)+1))\n",
    "\n",
    "        X = projected\n",
    "        print(X.shape)\n",
    "        X_train, X_test, y_train, y_test = train_test_split(X, y, test_size=0.3, random_state=1)\n",
    "\n",
    "        # # Create linear regression object\n",
    "        regr = linear_model.LinearRegression()\n",
    "\n",
    "\n",
    "        # # Fit regression model to the training set\n",
    "        regr.fit(X_train, y_train)\n",
    "\n",
    "        # # Apply model to the test set\n",
    "        y_pred = regr.predict(X_test)\n",
    "\n",
    "\n",
    "        # Evaluate the results\n",
    "        print(\"Root mean squared error = %.4f\" %np.sqrt(mean_squared_error(y_test, y_pred)) )\n",
    "        print(\"R-square = %.4f\" % r2_score(y_test, y_pred) )\n",
    "        print('Slope Coefficients:', regr.coef_ )\n",
    "        print('Intercept:', regr.intercept_ )\n",
    "\n",
    "        plt.scatter(y_test, y_pred, color='black')\n",
    "        plt.title('Comparison between true and predicted values')\n",
    "        plt.xlabel('True values for y')\n",
    "        plt.ylabel('Predicted values for y')\n",
    "        plt.show()"
   ]
  },
  {
   "cell_type": "code",
   "execution_count": null,
   "metadata": {},
   "outputs": [],
   "source": []
  },
  {
   "cell_type": "code",
   "execution_count": null,
   "metadata": {},
   "outputs": [],
   "source": []
  },
  {
   "cell_type": "code",
   "execution_count": null,
   "metadata": {},
   "outputs": [],
   "source": []
  },
  {
   "cell_type": "code",
   "execution_count": null,
   "metadata": {},
   "outputs": [],
   "source": []
  },
  {
   "cell_type": "code",
   "execution_count": null,
   "metadata": {},
   "outputs": [],
   "source": []
  },
  {
   "cell_type": "code",
   "execution_count": null,
   "metadata": {},
   "outputs": [],
   "source": []
  },
  {
   "cell_type": "code",
   "execution_count": null,
   "metadata": {},
   "outputs": [],
   "source": []
  },
  {
   "cell_type": "code",
   "execution_count": null,
   "metadata": {},
   "outputs": [],
   "source": []
  }
 ],
 "metadata": {
  "kernelspec": {
   "display_name": "Python 3",
   "language": "python",
   "name": "python3"
  },
  "language_info": {
   "codemirror_mode": {
    "name": "ipython",
    "version": 3
   },
   "file_extension": ".py",
   "mimetype": "text/x-python",
   "name": "python",
   "nbconvert_exporter": "python",
   "pygments_lexer": "ipython3",
   "version": "3.7.4"
  }
 },
 "nbformat": 4,
 "nbformat_minor": 2
}
