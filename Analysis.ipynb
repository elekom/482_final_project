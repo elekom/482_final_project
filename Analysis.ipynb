{
 "cells": [
  {
   "cell_type": "code",
   "execution_count": 99,
   "metadata": {},
   "outputs": [
    {
     "data": {
      "text/html": [
       "<div>\n",
       "<style scoped>\n",
       "    .dataframe tbody tr th:only-of-type {\n",
       "        vertical-align: middle;\n",
       "    }\n",
       "\n",
       "    .dataframe tbody tr th {\n",
       "        vertical-align: top;\n",
       "    }\n",
       "\n",
       "    .dataframe thead th {\n",
       "        text-align: right;\n",
       "    }\n",
       "</style>\n",
       "<table border=\"1\" class=\"dataframe\">\n",
       "  <thead>\n",
       "    <tr style=\"text-align: right;\">\n",
       "      <th></th>\n",
       "      <th>Country</th>\n",
       "      <th>Year</th>\n",
       "      <th>Life Ladder</th>\n",
       "      <th>Log GDP Per Capita</th>\n",
       "      <th>Social Support</th>\n",
       "      <th>Life Expectancy</th>\n",
       "      <th>Freedom of Choice</th>\n",
       "      <th>Generosity</th>\n",
       "      <th>Corruption</th>\n",
       "      <th>Positive Affect</th>\n",
       "      <th>Negative Affect</th>\n",
       "      <th>Confidence in National Government</th>\n",
       "      <th>Democratic Quality</th>\n",
       "      <th>Delivery Quality</th>\n",
       "      <th>Gini of Household Income</th>\n",
       "      <th>Population</th>\n",
       "      <th>Population Density</th>\n",
       "    </tr>\n",
       "  </thead>\n",
       "  <tbody>\n",
       "    <tr>\n",
       "      <th>0</th>\n",
       "      <td>Afghanistan</td>\n",
       "      <td>2008</td>\n",
       "      <td>3.723590</td>\n",
       "      <td>7.168690</td>\n",
       "      <td>0.450662</td>\n",
       "      <td>49.209663</td>\n",
       "      <td>0.718114</td>\n",
       "      <td>0.181819</td>\n",
       "      <td>0.881686</td>\n",
       "      <td>0.517637</td>\n",
       "      <td>0.258195</td>\n",
       "      <td>0.612072</td>\n",
       "      <td>-1.929690</td>\n",
       "      <td>-1.655084</td>\n",
       "      <td>NaN</td>\n",
       "      <td>27722276.0</td>\n",
       "      <td>42.462819</td>\n",
       "    </tr>\n",
       "    <tr>\n",
       "      <th>1</th>\n",
       "      <td>Afghanistan</td>\n",
       "      <td>2009</td>\n",
       "      <td>4.401778</td>\n",
       "      <td>7.333790</td>\n",
       "      <td>0.552308</td>\n",
       "      <td>49.624432</td>\n",
       "      <td>0.678896</td>\n",
       "      <td>0.203614</td>\n",
       "      <td>0.850035</td>\n",
       "      <td>0.583926</td>\n",
       "      <td>0.237092</td>\n",
       "      <td>0.611545</td>\n",
       "      <td>-2.044093</td>\n",
       "      <td>-1.635025</td>\n",
       "      <td>0.441906</td>\n",
       "      <td>28394813.0</td>\n",
       "      <td>43.492959</td>\n",
       "    </tr>\n",
       "    <tr>\n",
       "      <th>2</th>\n",
       "      <td>Afghanistan</td>\n",
       "      <td>2010</td>\n",
       "      <td>4.758381</td>\n",
       "      <td>7.386629</td>\n",
       "      <td>0.539075</td>\n",
       "      <td>50.008961</td>\n",
       "      <td>0.600127</td>\n",
       "      <td>0.137630</td>\n",
       "      <td>0.706766</td>\n",
       "      <td>0.618265</td>\n",
       "      <td>0.275324</td>\n",
       "      <td>0.299357</td>\n",
       "      <td>-1.991810</td>\n",
       "      <td>-1.617176</td>\n",
       "      <td>0.327318</td>\n",
       "      <td>29185507.0</td>\n",
       "      <td>44.704082</td>\n",
       "    </tr>\n",
       "    <tr>\n",
       "      <th>3</th>\n",
       "      <td>Afghanistan</td>\n",
       "      <td>2011</td>\n",
       "      <td>3.831719</td>\n",
       "      <td>7.415019</td>\n",
       "      <td>0.521104</td>\n",
       "      <td>50.367298</td>\n",
       "      <td>0.495901</td>\n",
       "      <td>0.175329</td>\n",
       "      <td>0.731109</td>\n",
       "      <td>0.611387</td>\n",
       "      <td>0.267175</td>\n",
       "      <td>0.307386</td>\n",
       "      <td>-1.919018</td>\n",
       "      <td>-1.616221</td>\n",
       "      <td>0.336764</td>\n",
       "      <td>30117413.0</td>\n",
       "      <td>46.131503</td>\n",
       "    </tr>\n",
       "    <tr>\n",
       "      <th>4</th>\n",
       "      <td>Afghanistan</td>\n",
       "      <td>2012</td>\n",
       "      <td>3.782938</td>\n",
       "      <td>7.517126</td>\n",
       "      <td>0.520637</td>\n",
       "      <td>50.709263</td>\n",
       "      <td>0.530935</td>\n",
       "      <td>0.247159</td>\n",
       "      <td>0.775620</td>\n",
       "      <td>0.710385</td>\n",
       "      <td>0.267919</td>\n",
       "      <td>0.435440</td>\n",
       "      <td>-1.842996</td>\n",
       "      <td>-1.404078</td>\n",
       "      <td>0.344540</td>\n",
       "      <td>31161376.0</td>\n",
       "      <td>47.730564</td>\n",
       "    </tr>\n",
       "    <tr>\n",
       "      <th>...</th>\n",
       "      <td>...</td>\n",
       "      <td>...</td>\n",
       "      <td>...</td>\n",
       "      <td>...</td>\n",
       "      <td>...</td>\n",
       "      <td>...</td>\n",
       "      <td>...</td>\n",
       "      <td>...</td>\n",
       "      <td>...</td>\n",
       "      <td>...</td>\n",
       "      <td>...</td>\n",
       "      <td>...</td>\n",
       "      <td>...</td>\n",
       "      <td>...</td>\n",
       "      <td>...</td>\n",
       "      <td>...</td>\n",
       "      <td>...</td>\n",
       "    </tr>\n",
       "    <tr>\n",
       "      <th>1557</th>\n",
       "      <td>Zimbabwe</td>\n",
       "      <td>2013</td>\n",
       "      <td>4.690188</td>\n",
       "      <td>7.565154</td>\n",
       "      <td>0.799274</td>\n",
       "      <td>48.949745</td>\n",
       "      <td>0.575884</td>\n",
       "      <td>-0.076716</td>\n",
       "      <td>0.830937</td>\n",
       "      <td>0.711885</td>\n",
       "      <td>0.182288</td>\n",
       "      <td>0.527755</td>\n",
       "      <td>-1.026085</td>\n",
       "      <td>-1.526321</td>\n",
       "      <td>0.555439</td>\n",
       "      <td>13350356.0</td>\n",
       "      <td>34.510420</td>\n",
       "    </tr>\n",
       "    <tr>\n",
       "      <th>1558</th>\n",
       "      <td>Zimbabwe</td>\n",
       "      <td>2014</td>\n",
       "      <td>4.184451</td>\n",
       "      <td>7.562753</td>\n",
       "      <td>0.765839</td>\n",
       "      <td>50.051235</td>\n",
       "      <td>0.642034</td>\n",
       "      <td>-0.045885</td>\n",
       "      <td>0.820217</td>\n",
       "      <td>0.725214</td>\n",
       "      <td>0.239111</td>\n",
       "      <td>0.566209</td>\n",
       "      <td>-0.985267</td>\n",
       "      <td>-1.484067</td>\n",
       "      <td>0.601080</td>\n",
       "      <td>13586681.0</td>\n",
       "      <td>35.121316</td>\n",
       "    </tr>\n",
       "    <tr>\n",
       "      <th>1559</th>\n",
       "      <td>Zimbabwe</td>\n",
       "      <td>2015</td>\n",
       "      <td>3.703191</td>\n",
       "      <td>7.556052</td>\n",
       "      <td>0.735800</td>\n",
       "      <td>50.925652</td>\n",
       "      <td>0.667193</td>\n",
       "      <td>-0.094585</td>\n",
       "      <td>0.810457</td>\n",
       "      <td>0.715079</td>\n",
       "      <td>0.178861</td>\n",
       "      <td>0.590012</td>\n",
       "      <td>-0.893078</td>\n",
       "      <td>-1.357514</td>\n",
       "      <td>0.655137</td>\n",
       "      <td>13814629.0</td>\n",
       "      <td>35.710557</td>\n",
       "    </tr>\n",
       "    <tr>\n",
       "      <th>1560</th>\n",
       "      <td>Zimbabwe</td>\n",
       "      <td>2016</td>\n",
       "      <td>3.735400</td>\n",
       "      <td>7.538829</td>\n",
       "      <td>0.768425</td>\n",
       "      <td>51.800068</td>\n",
       "      <td>0.732971</td>\n",
       "      <td>-0.065283</td>\n",
       "      <td>0.723612</td>\n",
       "      <td>0.737636</td>\n",
       "      <td>0.208555</td>\n",
       "      <td>0.699344</td>\n",
       "      <td>-0.863044</td>\n",
       "      <td>-1.371214</td>\n",
       "      <td>0.596690</td>\n",
       "      <td>14030390.0</td>\n",
       "      <td>36.268295</td>\n",
       "    </tr>\n",
       "    <tr>\n",
       "      <th>1561</th>\n",
       "      <td>Zimbabwe</td>\n",
       "      <td>2017</td>\n",
       "      <td>3.638300</td>\n",
       "      <td>7.538187</td>\n",
       "      <td>0.754147</td>\n",
       "      <td>52.674484</td>\n",
       "      <td>0.752826</td>\n",
       "      <td>-0.066005</td>\n",
       "      <td>0.751208</td>\n",
       "      <td>0.806428</td>\n",
       "      <td>0.224051</td>\n",
       "      <td>0.682647</td>\n",
       "      <td>NaN</td>\n",
       "      <td>NaN</td>\n",
       "      <td>0.581484</td>\n",
       "      <td>14236745.0</td>\n",
       "      <td>36.801719</td>\n",
       "    </tr>\n",
       "  </tbody>\n",
       "</table>\n",
       "<p>1562 rows × 17 columns</p>\n",
       "</div>"
      ],
      "text/plain": [
       "          Country  Year  Life Ladder  Log GDP Per Capita  Social Support  \\\n",
       "0     Afghanistan  2008     3.723590            7.168690        0.450662   \n",
       "1     Afghanistan  2009     4.401778            7.333790        0.552308   \n",
       "2     Afghanistan  2010     4.758381            7.386629        0.539075   \n",
       "3     Afghanistan  2011     3.831719            7.415019        0.521104   \n",
       "4     Afghanistan  2012     3.782938            7.517126        0.520637   \n",
       "...           ...   ...          ...                 ...             ...   \n",
       "1557     Zimbabwe  2013     4.690188            7.565154        0.799274   \n",
       "1558     Zimbabwe  2014     4.184451            7.562753        0.765839   \n",
       "1559     Zimbabwe  2015     3.703191            7.556052        0.735800   \n",
       "1560     Zimbabwe  2016     3.735400            7.538829        0.768425   \n",
       "1561     Zimbabwe  2017     3.638300            7.538187        0.754147   \n",
       "\n",
       "      Life Expectancy  Freedom of Choice  Generosity  Corruption  \\\n",
       "0           49.209663           0.718114    0.181819    0.881686   \n",
       "1           49.624432           0.678896    0.203614    0.850035   \n",
       "2           50.008961           0.600127    0.137630    0.706766   \n",
       "3           50.367298           0.495901    0.175329    0.731109   \n",
       "4           50.709263           0.530935    0.247159    0.775620   \n",
       "...               ...                ...         ...         ...   \n",
       "1557        48.949745           0.575884   -0.076716    0.830937   \n",
       "1558        50.051235           0.642034   -0.045885    0.820217   \n",
       "1559        50.925652           0.667193   -0.094585    0.810457   \n",
       "1560        51.800068           0.732971   -0.065283    0.723612   \n",
       "1561        52.674484           0.752826   -0.066005    0.751208   \n",
       "\n",
       "      Positive Affect  Negative Affect  Confidence in National Government  \\\n",
       "0            0.517637         0.258195                           0.612072   \n",
       "1            0.583926         0.237092                           0.611545   \n",
       "2            0.618265         0.275324                           0.299357   \n",
       "3            0.611387         0.267175                           0.307386   \n",
       "4            0.710385         0.267919                           0.435440   \n",
       "...               ...              ...                                ...   \n",
       "1557         0.711885         0.182288                           0.527755   \n",
       "1558         0.725214         0.239111                           0.566209   \n",
       "1559         0.715079         0.178861                           0.590012   \n",
       "1560         0.737636         0.208555                           0.699344   \n",
       "1561         0.806428         0.224051                           0.682647   \n",
       "\n",
       "      Democratic Quality  Delivery Quality  Gini of Household Income  \\\n",
       "0              -1.929690         -1.655084                       NaN   \n",
       "1              -2.044093         -1.635025                  0.441906   \n",
       "2              -1.991810         -1.617176                  0.327318   \n",
       "3              -1.919018         -1.616221                  0.336764   \n",
       "4              -1.842996         -1.404078                  0.344540   \n",
       "...                  ...               ...                       ...   \n",
       "1557           -1.026085         -1.526321                  0.555439   \n",
       "1558           -0.985267         -1.484067                  0.601080   \n",
       "1559           -0.893078         -1.357514                  0.655137   \n",
       "1560           -0.863044         -1.371214                  0.596690   \n",
       "1561                 NaN               NaN                  0.581484   \n",
       "\n",
       "      Population  Population Density  \n",
       "0     27722276.0           42.462819  \n",
       "1     28394813.0           43.492959  \n",
       "2     29185507.0           44.704082  \n",
       "3     30117413.0           46.131503  \n",
       "4     31161376.0           47.730564  \n",
       "...          ...                 ...  \n",
       "1557  13350356.0           34.510420  \n",
       "1558  13586681.0           35.121316  \n",
       "1559  13814629.0           35.710557  \n",
       "1560  14030390.0           36.268295  \n",
       "1561  14236745.0           36.801719  \n",
       "\n",
       "[1562 rows x 17 columns]"
      ]
     },
     "execution_count": 99,
     "metadata": {},
     "output_type": "execute_result"
    }
   ],
   "source": [
    "import pandas as pd\n",
    "import numpy as np\n",
    "\n",
    "import matplotlib\n",
    "import matplotlib.pyplot as plt\n",
    "%matplotlib inline\n",
    "matplotlib.style.use('ggplot')\n",
    "\n",
    "data = pd.read_csv(\"dataComplete.csv\")\n",
    "data"
   ]
  },
  {
   "cell_type": "code",
   "execution_count": 100,
   "metadata": {},
   "outputs": [
    {
     "data": {
      "text/plain": [
       "-0.014505375152495132"
      ]
     },
     "execution_count": 100,
     "metadata": {},
     "output_type": "execute_result"
    }
   ],
   "source": [
    "dataYear = data.filter(['Life Ladder', 'Year']).dropna()\n",
    "corr = np.corrcoef(dataYear['Life Ladder'], dataYear['Year'])[0,1]\n",
    "corr"
   ]
  },
  {
   "cell_type": "code",
   "execution_count": 101,
   "metadata": {},
   "outputs": [
    {
     "data": {
      "image/png": "[encoded data removed]",
      "text/plain": [
       "<Figure size 432x288 with 1 Axes>"
      ]
     },
     "metadata": {},
     "output_type": "display_data"
    }
   ],
   "source": [
    "plt.scatter(dataYear['Year'], dataYear['Life Ladder'])\n",
    "plt.show()"
   ]
  },
  {
   "cell_type": "code",
   "execution_count": 103,
   "metadata": {},
   "outputs": [
    {
     "data": {
      "text/plain": [
       "0.7794764148146208"
      ]
     },
     "execution_count": 103,
     "metadata": {},
     "output_type": "execute_result"
    }
   ],
   "source": [
    "dataLogGDP = data.filter(['Life Ladder', 'Log GDP Per Capita']).dropna()\n",
    "corr = np.corrcoef(dataLogGDP['Life Ladder'], dataLogGDP['Log GDP Per Capita'])[0,1]\n",
    "corr"
   ]
  },
  {
   "cell_type": "code",
   "execution_count": 105,
   "metadata": {},
   "outputs": [
    {
     "data": {
      "image/png": "[encoded data removed]",
      "text/plain": [
       "<Figure size 432x288 with 1 Axes>"
      ]
     },
     "metadata": {},
     "output_type": "display_data"
    }
   ],
   "source": [
    "plt.scatter(dataLogGDP['Log GDP Per Capita'], dataLogGDP['Life Ladder'])\n",
    "plt.show()"
   ]
  },
  {
   "cell_type": "code",
   "execution_count": 106,
   "metadata": {},
   "outputs": [
    {
     "data": {
      "text/plain": [
       "0.7002991901247579"
      ]
     },
     "execution_count": 106,
     "metadata": {},
     "output_type": "execute_result"
    }
   ],
   "source": [
    "dataSocial = data.filter(['Life Ladder', 'Social Support']).dropna()\n",
    "corr = np.corrcoef(dataSocial['Life Ladder'], dataSocial['Social Support'])[0,1]\n",
    "corr"
   ]
  },
  {
   "cell_type": "code",
   "execution_count": 107,
   "metadata": {},
   "outputs": [
    {
     "data": {
      "image/png": "[encoded data removed]",
      "text/plain": [
       "<Figure size 432x288 with 1 Axes>"
      ]
     },
     "metadata": {},
     "output_type": "display_data"
    }
   ],
   "source": [
    "plt.scatter(dataSocial['Social Support'], dataSocial['Life Ladder'])\n",
    "plt.show()"
   ]
  },
  {
   "cell_type": "code",
   "execution_count": 108,
   "metadata": {},
   "outputs": [
    {
     "data": {
      "text/plain": [
       "0.7298524731046242"
      ]
     },
     "execution_count": 108,
     "metadata": {},
     "output_type": "execute_result"
    }
   ],
   "source": [
    "dataLifeExp = data.filter(['Life Ladder', 'Life Expectancy']).dropna()\n",
    "corr = np.corrcoef(dataLifeExp['Life Ladder'], dataLifeExp['Life Expectancy'])[0,1]\n",
    "corr"
   ]
  },
  {
   "cell_type": "code",
   "execution_count": 109,
   "metadata": {},
   "outputs": [
    {
     "data": {
      "image/png": "[encoded data removed]",
      "text/plain": [
       "<Figure size 432x288 with 1 Axes>"
      ]
     },
     "metadata": {},
     "output_type": "display_data"
    }
   ],
   "source": [
    "plt.scatter(dataLifeExp['Life Expectancy'], dataLifeExp['Life Ladder'])\n",
    "plt.show()"
   ]
  },
  {
   "cell_type": "code",
   "execution_count": 110,
   "metadata": {},
   "outputs": [
    {
     "data": {
      "text/plain": [
       "0.5260582970777221"
      ]
     },
     "execution_count": 110,
     "metadata": {},
     "output_type": "execute_result"
    }
   ],
   "source": [
    "dataFreedom = data.filter(['Life Ladder', 'Freedom of Choice']).dropna()\n",
    "corr = np.corrcoef(dataFreedom['Life Ladder'], dataFreedom['Freedom of Choice'])[0,1]\n",
    "corr"
   ]
  },
  {
   "cell_type": "code",
   "execution_count": 111,
   "metadata": {},
   "outputs": [
    {
     "data": {
      "text/plain": [
       "0.20490961280446296"
      ]
     },
     "execution_count": 111,
     "metadata": {},
     "output_type": "execute_result"
    }
   ],
   "source": [
    "dataGenerosity = data.filter(['Life Ladder', 'Generosity']).dropna()\n",
    "corr = np.corrcoef(dataGenerosity['Life Ladder'], dataGenerosity['Generosity'])[0,1]\n",
    "corr"
   ]
  },
  {
   "cell_type": "code",
   "execution_count": 112,
   "metadata": {},
   "outputs": [
    {
     "data": {
      "text/plain": [
       "-0.4250133421995642"
      ]
     },
     "execution_count": 112,
     "metadata": {},
     "output_type": "execute_result"
    }
   ],
   "source": [
    "dataCorruption = data.filter(['Life Ladder', 'Corruption']).dropna()\n",
    "corr = np.corrcoef(dataCorruption['Life Ladder'], dataCorruption['Corruption'])[0,1]\n",
    "corr"
   ]
  },
  {
   "cell_type": "code",
   "execution_count": 113,
   "metadata": {},
   "outputs": [
    {
     "data": {
      "text/plain": [
       "0.5544621310223447"
      ]
     },
     "execution_count": 113,
     "metadata": {},
     "output_type": "execute_result"
    }
   ],
   "source": [
    "dataPosAffect = data.filter(['Life Ladder', 'Positive Affect']).dropna()\n",
    "corr = np.corrcoef(dataPosAffect['Life Ladder'], dataPosAffect['Positive Affect'])[0,1]\n",
    "corr"
   ]
  },
  {
   "cell_type": "code",
   "execution_count": 114,
   "metadata": {},
   "outputs": [
    {
     "data": {
      "text/plain": [
       "-0.2674924989285889"
      ]
     },
     "execution_count": 114,
     "metadata": {},
     "output_type": "execute_result"
    }
   ],
   "source": [
    "dataNegAffect = data.filter(['Life Ladder', 'Negative Affect']).dropna()\n",
    "corr = np.corrcoef(dataNegAffect['Life Ladder'], dataNegAffect['Negative Affect'])[0,1]\n",
    "corr"
   ]
  },
  {
   "cell_type": "code",
   "execution_count": 115,
   "metadata": {},
   "outputs": [
    {
     "data": {
      "text/plain": [
       "-0.08554295574509808"
      ]
     },
     "execution_count": 115,
     "metadata": {},
     "output_type": "execute_result"
    }
   ],
   "source": [
    "dataGovConfidence = data.filter(['Life Ladder', 'Confidence in National Government']).dropna()\n",
    "corr = np.corrcoef(dataGovConfidence['Life Ladder'], dataGovConfidence['Confidence in National Government'])[0,1]\n",
    "corr"
   ]
  },
  {
   "cell_type": "code",
   "execution_count": 116,
   "metadata": {},
   "outputs": [
    {
     "data": {
      "text/plain": [
       "0.6070337920568736"
      ]
     },
     "execution_count": 116,
     "metadata": {},
     "output_type": "execute_result"
    }
   ],
   "source": [
    "dataDemQuality = data.filter(['Life Ladder', 'Democratic Quality']).dropna()\n",
    "corr = np.corrcoef(dataDemQuality['Life Ladder'], dataDemQuality['Democratic Quality'])[0,1]\n",
    "corr"
   ]
  },
  {
   "cell_type": "code",
   "execution_count": 117,
   "metadata": {},
   "outputs": [
    {
     "data": {
      "text/plain": [
       "0.7066734304540819"
      ]
     },
     "execution_count": 117,
     "metadata": {},
     "output_type": "execute_result"
    }
   ],
   "source": [
    "dataDeliveryQuality = data.filter(['Life Ladder', 'Delivery Quality']).dropna()\n",
    "corr = np.corrcoef(dataDeliveryQuality['Life Ladder'], dataDeliveryQuality['Delivery Quality'])[0,1]\n",
    "corr"
   ]
  },
  {
   "cell_type": "code",
   "execution_count": 118,
   "metadata": {},
   "outputs": [
    {
     "data": {
      "text/plain": [
       "-0.2940798875509024"
      ]
     },
     "execution_count": 118,
     "metadata": {},
     "output_type": "execute_result"
    }
   ],
   "source": [
    "dataGini = data.filter(['Life Ladder', 'Gini of Household Income']).dropna()\n",
    "corr = np.corrcoef(dataGini['Life Ladder'], dataGini['Gini of Household Income'])[0,1]\n",
    "corr"
   ]
  },
  {
   "cell_type": "code",
   "execution_count": 119,
   "metadata": {},
   "outputs": [
    {
     "data": {
      "text/plain": [
       "-0.04651330373328254"
      ]
     },
     "execution_count": 119,
     "metadata": {},
     "output_type": "execute_result"
    }
   ],
   "source": [
    "dataPop = data.filter(['Life Ladder', 'Population']).dropna()\n",
    "corr = np.corrcoef(dataPop['Life Ladder'], dataPop['Population'])[0,1]\n",
    "corr"
   ]
  },
  {
   "cell_type": "code",
   "execution_count": 120,
   "metadata": {},
   "outputs": [
    {
     "data": {
      "text/plain": [
       "0.08899489429238056"
      ]
     },
     "execution_count": 120,
     "metadata": {},
     "output_type": "execute_result"
    }
   ],
   "source": [
    "dataPopDensity = data.filter(['Life Ladder', 'Population Density']).dropna()\n",
    "corr = np.corrcoef(dataPopDensity['Life Ladder'], dataPopDensity['Population Density'])[0,1]\n",
    "corr"
   ]
  },
  {
   "cell_type": "code",
   "execution_count": 123,
   "metadata": {},
   "outputs": [
    {
     "data": {
      "text/html": [
       "<table class=\"simpletable\">\n",
       "<caption>OLS Regression Results</caption>\n",
       "<tr>\n",
       "  <th>Dep. Variable:</th>       <td>Life Ladder</td>   <th>  R-squared:         </th> <td>   0.984</td> \n",
       "</tr>\n",
       "<tr>\n",
       "  <th>Model:</th>                   <td>OLS</td>       <th>  Adj. R-squared:    </th> <td>   0.984</td> \n",
       "</tr>\n",
       "<tr>\n",
       "  <th>Method:</th>             <td>Least Squares</td>  <th>  F-statistic:       </th> <td>4.726e+04</td>\n",
       "</tr>\n",
       "<tr>\n",
       "  <th>Date:</th>             <td>Mon, 09 Mar 2020</td> <th>  Prob (F-statistic):</th>  <td>  0.00</td>  \n",
       "</tr>\n",
       "<tr>\n",
       "  <th>Time:</th>                 <td>17:08:18</td>     <th>  Log-Likelihood:    </th> <td> -1633.6</td> \n",
       "</tr>\n",
       "<tr>\n",
       "  <th>No. Observations:</th>      <td>  1535</td>      <th>  AIC:               </th> <td>   3271.</td> \n",
       "</tr>\n",
       "<tr>\n",
       "  <th>Df Residuals:</th>          <td>  1533</td>      <th>  BIC:               </th> <td>   3282.</td> \n",
       "</tr>\n",
       "<tr>\n",
       "  <th>Df Model:</th>              <td>     2</td>      <th>                     </th>     <td> </td>    \n",
       "</tr>\n",
       "<tr>\n",
       "  <th>Covariance Type:</th>      <td>nonrobust</td>    <th>                     </th>     <td> </td>    \n",
       "</tr>\n",
       "</table>\n",
       "<table class=\"simpletable\">\n",
       "<tr>\n",
       "           <td></td>             <th>coef</th>     <th>std err</th>      <th>t</th>      <th>P>|t|</th>  <th>[0.025</th>    <th>0.975]</th>  \n",
       "</tr>\n",
       "<tr>\n",
       "  <th>Year</th>               <td>   -0.0007</td> <td>    7e-05</td> <td>   -9.727</td> <td> 0.000</td> <td>   -0.001</td> <td>   -0.001</td>\n",
       "</tr>\n",
       "<tr>\n",
       "  <th>Log GDP Per Capita</th> <td>    0.7382</td> <td>    0.015</td> <td>   48.750</td> <td> 0.000</td> <td>    0.709</td> <td>    0.768</td>\n",
       "</tr>\n",
       "</table>\n",
       "<table class=\"simpletable\">\n",
       "<tr>\n",
       "  <th>Omnibus:</th>       <td>12.836</td> <th>  Durbin-Watson:     </th> <td>   0.463</td>\n",
       "</tr>\n",
       "<tr>\n",
       "  <th>Prob(Omnibus):</th> <td> 0.002</td> <th>  Jarque-Bera (JB):  </th> <td>   9.750</td>\n",
       "</tr>\n",
       "<tr>\n",
       "  <th>Skew:</th>          <td>-0.093</td> <th>  Prob(JB):          </th> <td> 0.00763</td>\n",
       "</tr>\n",
       "<tr>\n",
       "  <th>Kurtosis:</th>      <td> 2.656</td> <th>  Cond. No.          </th> <td>1.70e+03</td>\n",
       "</tr>\n",
       "</table><br/><br/>Warnings:<br/>[1] Standard Errors assume that the covariance matrix of the errors is correctly specified.<br/>[2] The condition number is large, 1.7e+03. This might indicate that there are<br/>strong multicollinearity or other numerical problems."
      ],
      "text/plain": [
       "<class 'statsmodels.iolib.summary.Summary'>\n",
       "\"\"\"\n",
       "                            OLS Regression Results                            \n",
       "==============================================================================\n",
       "Dep. Variable:            Life Ladder   R-squared:                       0.984\n",
       "Model:                            OLS   Adj. R-squared:                  0.984\n",
       "Method:                 Least Squares   F-statistic:                 4.726e+04\n",
       "Date:                Mon, 09 Mar 2020   Prob (F-statistic):               0.00\n",
       "Time:                        17:08:18   Log-Likelihood:                -1633.6\n",
       "No. Observations:                1535   AIC:                             3271.\n",
       "Df Residuals:                    1533   BIC:                             3282.\n",
       "Df Model:                           2                                         \n",
       "Covariance Type:            nonrobust                                         \n",
       "======================================================================================\n",
       "                         coef    std err          t      P>|t|      [0.025      0.975]\n",
       "--------------------------------------------------------------------------------------\n",
       "Year                  -0.0007      7e-05     -9.727      0.000      -0.001      -0.001\n",
       "Log GDP Per Capita     0.7382      0.015     48.750      0.000       0.709       0.768\n",
       "==============================================================================\n",
       "Omnibus:                       12.836   Durbin-Watson:                   0.463\n",
       "Prob(Omnibus):                  0.002   Jarque-Bera (JB):                9.750\n",
       "Skew:                          -0.093   Prob(JB):                      0.00763\n",
       "Kurtosis:                       2.656   Cond. No.                     1.70e+03\n",
       "==============================================================================\n",
       "\n",
       "Warnings:\n",
       "[1] Standard Errors assume that the covariance matrix of the errors is correctly specified.\n",
       "[2] The condition number is large, 1.7e+03. This might indicate that there are\n",
       "strong multicollinearity or other numerical problems.\n",
       "\"\"\""
      ]
     },
     "execution_count": 123,
     "metadata": {},
     "output_type": "execute_result"
    }
   ],
   "source": [
    "import statsmodels.api as sm\n",
    "\n",
    "df = data.filter(['Year', 'Log GDP Per Capita', 'Life Ladder']).dropna()\n",
    "predictor = df.filter(['Year', 'Log GDP Per Capita'])\n",
    "target = df.filter(['Life Ladder'])\n",
    "\n",
    "X = predictor\n",
    "y = target['Life Ladder']\n",
    "model = sm.OLS(y, X).fit()\n",
    "predictions = model.predict(X)\n",
    "model.summary()"
   ]
  },
  {
   "cell_type": "code",
   "execution_count": 124,
   "metadata": {},
   "outputs": [
    {
     "name": "stdout",
     "output_type": "stream",
     "text": [
      "[3.98178152 4.0874293  4.11000761 ... 4.1527717  4.12350694 4.10651092]\n",
      "0.6101201770338847\n",
      "[-0.01652073  0.73996846]\n",
      "31.850807473573944\n"
     ]
    }
   ],
   "source": [
    "# creating a linear regression model to predict index with Year and Log GDP per capita, score of 61%\n",
    "from sklearn import linear_model\n",
    "\n",
    "lm = linear_model.LinearRegression()\n",
    "X = predictor\n",
    "model = lm.fit(X,y)\n",
    "predictions = lm.predict(X)\n",
    "\n",
    "print(predictions)\n",
    "print(lm.score(X,y))\n",
    "print(lm.coef_)\n",
    "print(lm.intercept_)"
   ]
  },
  {
   "cell_type": "code",
   "execution_count": 126,
   "metadata": {},
   "outputs": [
    {
     "name": "stdout",
     "output_type": "stream",
     "text": [
      "[[3.24950643]\n",
      " [3.64514881]\n",
      " [3.62479626]\n",
      " ...\n",
      " [4.28688209]\n",
      " [4.37113937]\n",
      " [4.31893994]]\n",
      "0.669174295368222\n",
      "[[-0.0076157   0.53493145  3.09840734]]\n",
      "[13.31073916]\n"
     ]
    }
   ],
   "source": [
    "# could be overfit, need to do model overfitting techniques\n",
    "lm2 = linear_model.LinearRegression()\n",
    "df2 = data.filter(['Year', 'Log GDP Per Capita', 'Social Support', 'Life Ladder']).dropna()\n",
    "X = df2.filter(['Year', 'Log GDP Per Capita', 'Social Support'])\n",
    "y = df2.filter(['Life Ladder'])\n",
    "\n",
    "model = lm.fit(X,y)\n",
    "predictions = lm.predict(X)\n",
    "\n",
    "print(predictions)\n",
    "print(lm.score(X,y))\n",
    "print(lm.coef_)\n",
    "print(lm.intercept_)"
   ]
  },
  {
   "cell_type": "code",
   "execution_count": null,
   "metadata": {},
   "outputs": [],
   "source": []
  }
 ],
 "metadata": {
  "kernelspec": {
   "display_name": "Python 3",
   "language": "python",
   "name": "python3"
  },
  "language_info": {
   "codemirror_mode": {
    "name": "ipython",
    "version": 3
   },
   "file_extension": ".py",
   "mimetype": "text/x-python",
   "name": "python",
   "nbconvert_exporter": "python",
   "pygments_lexer": "ipython3",
   "version": "3.7.4"
  }
 },
 "nbformat": 4,
 "nbformat_minor": 2
}
